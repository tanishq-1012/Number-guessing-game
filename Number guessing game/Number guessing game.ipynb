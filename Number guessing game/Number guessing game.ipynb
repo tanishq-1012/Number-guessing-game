{
 "cells": [
  {
   "cell_type": "code",
   "execution_count": null,
   "id": "d438bee6-4048-4fbd-b24a-0c1485560c5e",
   "metadata": {},
   "outputs": [
    {
     "name": "stdout",
     "output_type": "stream",
     "text": [
      "Hi! Welcome to the Number Guessing Game.\n",
      "You have 7 chances to guess the number. Let's start!\n"
     ]
    },
    {
     "name": "stdin",
     "output_type": "stream",
     "text": [
      "Enter the Lower Bound:  34\n",
      "Enter the Upper Bound:  65\n"
     ]
    },
    {
     "name": "stdout",
     "output_type": "stream",
     "text": [
      "\n",
      "You have 7 chances to guess the number between 34 and 65. Let's start!\n"
     ]
    },
    {
     "name": "stdin",
     "output_type": "stream",
     "text": [
      "Enter your guess:  72\n"
     ]
    },
    {
     "name": "stdout",
     "output_type": "stream",
     "text": [
      "Too high! Try a lower number.\n"
     ]
    },
    {
     "name": "stdin",
     "output_type": "stream",
     "text": [
      "Enter your guess:  54\n"
     ]
    },
    {
     "name": "stdout",
     "output_type": "stream",
     "text": [
      "Too high! Try a lower number.\n"
     ]
    }
   ],
   "source": [
    "import random\n",
    "\n",
    "print(\"Hi! Welcome to the Number Guessing Game.\\nYou have 7 chances to guess the number. Let's start!\")\n",
    "\n",
    "low = int(input(\"Enter the Lower Bound: \"))\n",
    "high = int(input(\"Enter the Upper Bound: \"))\n",
    "\n",
    "print(f\"\\nYou have 7 chances to guess the number between {low} and {high}. Let's start!\")\n",
    "\n",
    "num = random.randint(low, high) \n",
    "ch = 7                        # Total allowed chances\n",
    "gc = 0                        # Guess counter\n",
    "\n",
    "while gc < ch:\n",
    "    gc += 1\n",
    "    guess = int(input('Enter your guess: '))\n",
    "\n",
    "    if guess == num:\n",
    "        print(f'Correct! The number is {num}. You guessed it in {gc} attempts.')\n",
    "        break\n",
    "\n",
    "    elif gc >= ch and guess != num:\n",
    "        print(f'orry! The number was {num}. Better luck next time.')\n",
    "\n",
    "    elif guess > num:\n",
    "        print('Too high! Try a lower number.')\n",
    "\n",
    "    elif guess < num:\n",
    "        print('Too low! Try a higher number.')"
   ]
  },
  {
   "cell_type": "code",
   "execution_count": null,
   "id": "9f6b9b62-4153-4843-8f4b-69cc181dcc05",
   "metadata": {},
   "outputs": [],
   "source": []
  }
 ],
 "metadata": {
  "kernelspec": {
   "display_name": "Python 3 (ipykernel)",
   "language": "python",
   "name": "python3"
  },
  "language_info": {
   "codemirror_mode": {
    "name": "ipython",
    "version": 3
   },
   "file_extension": ".py",
   "mimetype": "text/x-python",
   "name": "python",
   "nbconvert_exporter": "python",
   "pygments_lexer": "ipython3",
   "version": "3.13.0"
  }
 },
 "nbformat": 4,
 "nbformat_minor": 5
}
